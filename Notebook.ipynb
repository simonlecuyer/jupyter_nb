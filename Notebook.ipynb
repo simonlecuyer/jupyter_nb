{
 "cells": [
  {
   "cell_type": "code",
   "execution_count": 1,
   "metadata": {},
   "outputs": [],
   "source": [
    "import numpy as np\n",
    "# permet l'utilisation de numpy dans le programme, appelé avec le nom \"np\""
   ]
  }
 ],
 "metadata": {
  "kernelspec": {
   "display_name": "Python 3.10.5 64-bit",
   "language": "python",
   "name": "python3"
  },
  "language_info": {
   "codemirror_mode": {
    "name": "ipython",
    "version": 3
   },
   "file_extension": ".py",
   "mimetype": "text/x-python",
   "name": "python",
   "nbconvert_exporter": "python",
   "pygments_lexer": "ipython3",
   "version": "3.10.5"
  },
  "orig_nbformat": 4,
  "vscode": {
   "interpreter": {
    "hash": "5c4abdd6c637c93b6c03c6810e6cf0786c24e5387227f4bb867b6d022b14d7f2"
   }
  }
 },
 "nbformat": 4,
 "nbformat_minor": 2
}
